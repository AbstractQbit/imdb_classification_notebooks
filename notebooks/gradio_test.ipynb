{
 "cells": [
  {
   "cell_type": "code",
   "execution_count": 1,
   "metadata": {},
   "outputs": [
    {
     "name": "stdout",
     "output_type": "stream",
     "text": [
      "bin c:\\Users\\Abstract\\mambaforge\\envs\\sentenv2\\lib\\site-packages\\bitsandbytes\\libbitsandbytes_cuda121.dll\n"
     ]
    }
   ],
   "source": [
    "from transformers import AutoTokenizer, AutoModelForSequenceClassification\n",
    "import torch\n",
    "import gradio as gr\n",
    "import pickle\n",
    "\n",
    "torch.autograd.set_grad_enabled(False)\n",
    "\n",
    "sklearn_model = pickle.load(open('classic_pipeline.pickle', 'rb'))\n",
    "\n",
    "model_name = \"AbstractQbit/electra_large_imdb_htsplice\"\n",
    "tokenizer = AutoTokenizer.from_pretrained(model_name)\n",
    "model = AutoModelForSequenceClassification.from_pretrained(model_name)\n"
   ]
  },
  {
   "cell_type": "code",
   "execution_count": 6,
   "metadata": {},
   "outputs": [
    {
     "name": "stdout",
     "output_type": "stream",
     "text": [
      "\n",
      "Thanks for being a Gradio user! If you have questions or feedback, please join our Discord server and chat with us: https://discord.gg/feTf9x3ZSB\n",
      "Running on local URL:  http://127.0.0.1:7864\n",
      "\n",
      "To create a public link, set `share=True` in `launch()`.\n"
     ]
    },
    {
     "data": {
      "text/html": [
       "<div><iframe src=\"http://127.0.0.1:7864/\" width=\"100%\" height=\"500\" allow=\"autoplay; camera; microphone; clipboard-read; clipboard-write;\" frameborder=\"0\" allowfullscreen></iframe></div>"
      ],
      "text/plain": [
       "<IPython.core.display.HTML object>"
      ]
     },
     "metadata": {},
     "output_type": "display_data"
    },
    {
     "data": {
      "text/plain": []
     },
     "execution_count": 6,
     "metadata": {},
     "output_type": "execute_result"
    }
   ],
   "source": [
    "def tokenize_with_splicing(text):\n",
    "    tokens = tokenizer(text, truncation=False)\n",
    "    if len(tokens['input_ids']) > 512:\n",
    "        tokens['input_ids'] = tokens['input_ids'][:129] + \\\n",
    "            [102] + tokens['input_ids'][-382:]\n",
    "        tokens['token_type_ids'] = [0]*512\n",
    "        tokens['attention_mask'] = [1]*512\n",
    "    return tokens\n",
    "\n",
    "def make_stars(prob):\n",
    "    stars = round(1 + prob*9)\n",
    "    return '★'*stars + '☆'*(10-stars)\n",
    "\n",
    "def run_models(review):\n",
    "    prob_sklearn = float(sklearn_model.predict_proba([review])[0][1])\n",
    "    label_sklearn = 'positive' if prob_sklearn > 0.5 else 'negative'\n",
    "    res = f\"TF-IDF SVC thinks the review is {label_sklearn} ({100*prob_sklearn:.2f}% positive).\\n{make_stars(prob_sklearn):s}\\n\\n\"\n",
    "\n",
    "    input = tokenize_with_splicing(review).convert_to_tensors('pt', True)\n",
    "    output = torch.nn.functional.softmax(model(**input).logits, dim=1)\n",
    "    prob_electra = float(output[0][1])\n",
    "    label_electra = 'positive' if prob_electra > 0.5 else 'negative'\n",
    "    res += f\"ELECTRA thinks the review is {label_electra} ({100*prob_electra:.2f}% positive).\\n{make_stars(prob_electra):s}\"\n",
    "\n",
    "    return res\n",
    "\n",
    "\n",
    "demo = gr.Interface(\n",
    "    fn=run_models, \n",
    "    inputs=\"text\", \n",
    "    outputs=\"text\",\n",
    "    title=\"Movie review classification\",\n",
    "    allow_flagging='never'\n",
    ")\n",
    "\n",
    "demo.launch()\n"
   ]
  },
  {
   "cell_type": "code",
   "execution_count": 9,
   "metadata": {},
   "outputs": [],
   "source": [
    "# with torch.no_grad():\n",
    "#     output = torch.nn.functional.softmax(model(**tokenize_with_splicing(\"ELECTRA thinks the review is positive with \").convert_to_tensors('pt', True)).logits, dim=1)"
   ]
  },
  {
   "cell_type": "code",
   "execution_count": null,
   "metadata": {},
   "outputs": [],
   "source": []
  }
 ],
 "metadata": {
  "kernelspec": {
   "display_name": "sentenv2",
   "language": "python",
   "name": "python3"
  },
  "language_info": {
   "codemirror_mode": {
    "name": "ipython",
    "version": 3
   },
   "file_extension": ".py",
   "mimetype": "text/x-python",
   "name": "python",
   "nbconvert_exporter": "python",
   "pygments_lexer": "ipython3",
   "version": "3.10.12"
  },
  "orig_nbformat": 4
 },
 "nbformat": 4,
 "nbformat_minor": 2
}
