{
 "cells": [
  {
   "cell_type": "code",
   "execution_count": 1,
   "metadata": {},
   "outputs": [],
   "source": [
    "import torch\n",
    "from torch import nn\n",
    "from torch.nn import functional as F\n",
    "\n",
    "# model_name = \"google/electra-large-discriminator\"\n",
    "model_name = \"google/electra-base-discriminator\""
   ]
  },
  {
   "cell_type": "code",
   "execution_count": 2,
   "metadata": {},
   "outputs": [
    {
     "name": "stdout",
     "output_type": "stream",
     "text": [
      "bin c:\\Users\\Abstract\\mambaforge\\envs\\sentenv2\\lib\\site-packages\\bitsandbytes\\libbitsandbytes_cuda121.dll\n"
     ]
    }
   ],
   "source": [
    "import numpy as np\n",
    "import evaluate\n",
    "\n",
    "accuracy = evaluate.load(\"accuracy\")\n",
    "\n",
    "def compute_metrics(eval_pred):\n",
    "    predictions, ratings = eval_pred\n",
    "    # predictions = np.argmax(predictions, axis=1)\n",
    "    pred_pos = predictions > 5\n",
    "    label_pos = ratings > 5\n",
    "    # return accuracy.compute(predictions=pred_pos, references=label_pos)\n",
    "    return {\"accuracy\": accuracy.compute(predictions=pred_pos, references=label_pos)[\"accuracy\"],\n",
    "            \"rmse\": np.mean((predictions - ratings)**2)**0.5}\n",
    "\n",
    "# id2label = {0: \"NEGATIVE\", 1: \"POSITIVE\"}\n",
    "# label2id = {\"NEGATIVE\": 0, \"POSITIVE\": 1}"
   ]
  },
  {
   "cell_type": "code",
   "execution_count": 3,
   "metadata": {},
   "outputs": [
    {
     "data": {
      "text/plain": [
       "(DatasetDict({\n",
       "     train: Dataset({\n",
       "         features: ['text', 'label'],\n",
       "         num_rows: 25000\n",
       "     })\n",
       "     test: Dataset({\n",
       "         features: ['text', 'label'],\n",
       "         num_rows: 25000\n",
       "     })\n",
       " }),\n",
       " {'text': 'I love sci-fi and am willing to put up with a lot. Sci-fi movies/TV are usually underfunded, under-appreciated and misunderstood. I tried to like this, I really did, but it is to good TV sci-fi as Babylon 5 is to Star Trek (the original). Silly prosthetics, cheap cardboard sets, stilted dialogues, CG that doesn\\'t match the background, and painfully one-dimensional characters cannot be overcome with a \\'sci-fi\\' setting. (I\\'m sure there are those of you out there who think Babylon 5 is good sci-fi TV. It\\'s not. It\\'s clichéd and uninspiring.) While US viewers might like emotion and character development, sci-fi is a genre that does not take itself seriously (cf. Star Trek). It may treat important issues, yet not as a serious philosophy. It\\'s really difficult to care about the characters here as they are not simply foolish, just missing a spark of life. Their actions and reactions are wooden and predictable, often painful to watch. The makers of Earth KNOW it\\'s rubbish as they have to always say \"Gene Roddenberry\\'s Earth...\" otherwise people would not continue watching. Roddenberry\\'s ashes must be turning in their orbit as this dull, cheap, poorly edited (watching it without advert breaks really brings this home) trudging Trabant of a show lumbers into space. Spoiler. So, kill off a main character. And then bring him back as another actor. Jeeez! Dallas all over again.',\n",
       "  'label': 3.0})"
      ]
     },
     "execution_count": 3,
     "metadata": {},
     "output_type": "execute_result"
    }
   ],
   "source": [
    "from datasets import load_dataset\n",
    "\n",
    "imdb = load_dataset(\"./imdb_reg.py\")\n",
    "imdb.pop(\"unsupervised\")\n",
    "imdb, imdb[\"test\"][0]"
   ]
  },
  {
   "cell_type": "code",
   "execution_count": 4,
   "metadata": {},
   "outputs": [
    {
     "data": {
      "text/plain": [
       "{'text': \"Previous reviewer Claudio Carvalho gave a much better recap of the film's plot details than I could. What I recall mostly is that it was just so beautiful, in every sense - emotionally, visually, editorially - just gorgeous.<br /><br />If you like movies that are wonderful to look at, and also have emotional content to which that beauty is relevant, I think you will be glad to have seen this extraordinary and unusual work of art.<br /><br />On a scale of 1 to 10, I'd give it about an 8.75. The only reason I shy away from 9 is that it is a mood piece. If you are in the mood for a really artistic, very romantic film, then it's a 10. I definitely think it's a must-see, but none of us can be in that mood all the time, so, overall, 8.75.\",\n",
       " 'label': 10.0}"
      ]
     },
     "execution_count": 4,
     "metadata": {},
     "output_type": "execute_result"
    }
   ],
   "source": [
    "imdb[\"test\"][12500]"
   ]
  },
  {
   "cell_type": "code",
   "execution_count": 5,
   "metadata": {},
   "outputs": [],
   "source": [
    "from transformers import DataCollatorWithPadding, AutoTokenizer\n",
    "\n",
    "tokenizer = AutoTokenizer.from_pretrained(model_name)\n",
    "\n",
    "data_collator = DataCollatorWithPadding(tokenizer=tokenizer)\n",
    "\n",
    "\n",
    "def preprocess_function(examples):\n",
    "    tokens = tokenizer(examples[\"text\"], truncation=False)\n",
    "    if type(tokens['input_ids'][0]) == list:\n",
    "        for i in range(len(tokens['input_ids'])):\n",
    "            if len(tokens['input_ids'][i]) > 512:\n",
    "                tokens['input_ids'][i] = tokens['input_ids'][i][:129] + \\\n",
    "                    [102] + tokens['input_ids'][i][-382:]\n",
    "                tokens['token_type_ids'][i] = [0]*512\n",
    "                tokens['attention_mask'][i] = [1]*512\n",
    "    elif len(tokens['input_ids']) > 512:\n",
    "        tokens['input_ids'] = tokens['input_ids'][:129] + \\\n",
    "            [102] + tokens['input_ids'][-382:]\n",
    "        tokens['token_type_ids'] = [0]*512\n",
    "        tokens['attention_mask'] = [1]*512\n",
    "    return tokens"
   ]
  },
  {
   "cell_type": "code",
   "execution_count": 6,
   "metadata": {},
   "outputs": [],
   "source": [
    "tokenized_imdb = imdb.map(preprocess_function, batched=True)"
   ]
  },
  {
   "cell_type": "code",
   "execution_count": 7,
   "metadata": {},
   "outputs": [
    {
     "data": {
      "text/plain": [
       "DatasetDict({\n",
       "    train: Dataset({\n",
       "        features: ['text', 'label', 'input_ids', 'token_type_ids', 'attention_mask'],\n",
       "        num_rows: 25000\n",
       "    })\n",
       "    test: Dataset({\n",
       "        features: ['text', 'label', 'input_ids', 'token_type_ids', 'attention_mask'],\n",
       "        num_rows: 25000\n",
       "    })\n",
       "})"
      ]
     },
     "execution_count": 7,
     "metadata": {},
     "output_type": "execute_result"
    }
   ],
   "source": [
    "tokenized_imdb"
   ]
  },
  {
   "cell_type": "code",
   "execution_count": 8,
   "metadata": {},
   "outputs": [
    {
     "name": "stderr",
     "output_type": "stream",
     "text": [
      "Some weights of ElectraForSequenceClassification were not initialized from the model checkpoint at google/electra-base-discriminator and are newly initialized: ['classifier.dense.bias', 'classifier.out_proj.weight', 'classifier.dense.weight', 'classifier.out_proj.bias']\n",
      "You should probably TRAIN this model on a down-stream task to be able to use it for predictions and inference.\n"
     ]
    },
    {
     "data": {
      "text/plain": [
       "ElectraForSequenceClassification(\n",
       "  (electra): ElectraModel(\n",
       "    (embeddings): ElectraEmbeddings(\n",
       "      (word_embeddings): Embedding(30522, 768, padding_idx=0)\n",
       "      (position_embeddings): Embedding(512, 768)\n",
       "      (token_type_embeddings): Embedding(2, 768)\n",
       "      (LayerNorm): LayerNorm((768,), eps=1e-12, elementwise_affine=True)\n",
       "      (dropout): Dropout(p=0.1, inplace=False)\n",
       "    )\n",
       "    (encoder): ElectraEncoder(\n",
       "      (layer): ModuleList(\n",
       "        (0-11): 12 x ElectraLayer(\n",
       "          (attention): ElectraAttention(\n",
       "            (self): ElectraSelfAttention(\n",
       "              (query): Linear(in_features=768, out_features=768, bias=True)\n",
       "              (key): Linear(in_features=768, out_features=768, bias=True)\n",
       "              (value): Linear(in_features=768, out_features=768, bias=True)\n",
       "              (dropout): Dropout(p=0.1, inplace=False)\n",
       "            )\n",
       "            (output): ElectraSelfOutput(\n",
       "              (dense): Linear(in_features=768, out_features=768, bias=True)\n",
       "              (LayerNorm): LayerNorm((768,), eps=1e-12, elementwise_affine=True)\n",
       "              (dropout): Dropout(p=0.1, inplace=False)\n",
       "            )\n",
       "          )\n",
       "          (intermediate): ElectraIntermediate(\n",
       "            (dense): Linear(in_features=768, out_features=3072, bias=True)\n",
       "            (intermediate_act_fn): GELUActivation()\n",
       "          )\n",
       "          (output): ElectraOutput(\n",
       "            (dense): Linear(in_features=3072, out_features=768, bias=True)\n",
       "            (LayerNorm): LayerNorm((768,), eps=1e-12, elementwise_affine=True)\n",
       "            (dropout): Dropout(p=0.1, inplace=False)\n",
       "          )\n",
       "        )\n",
       "      )\n",
       "    )\n",
       "  )\n",
       "  (classifier): ElectraClassificationHead(\n",
       "    (dense): Linear(in_features=768, out_features=768, bias=True)\n",
       "    (dropout): Dropout(p=0.1, inplace=False)\n",
       "    (out_proj): Linear(in_features=768, out_features=1, bias=True)\n",
       "  )\n",
       ")"
      ]
     },
     "execution_count": 8,
     "metadata": {},
     "output_type": "execute_result"
    }
   ],
   "source": [
    "import torch\n",
    "from transformers import AutoModelForSequenceClassification, TrainingArguments, Trainer\n",
    "\n",
    "model = AutoModelForSequenceClassification.from_pretrained(model_name, num_labels=1)\n",
    "\n",
    "model"
   ]
  },
  {
   "cell_type": "code",
   "execution_count": 9,
   "metadata": {},
   "outputs": [
    {
     "name": "stderr",
     "output_type": "stream",
     "text": [
      "c:\\Users\\Abstract\\mambaforge\\envs\\sentenv2\\lib\\site-packages\\transformers\\optimization.py:411: FutureWarning: This implementation of AdamW is deprecated and will be removed in a future version. Use the PyTorch implementation torch.optim.AdamW instead, or set `no_deprecation_warning=True` to disable this warning\n",
      "  warnings.warn(\n"
     ]
    },
    {
     "data": {
      "application/vnd.jupyter.widget-view+json": {
       "model_id": "8469887ca65848dc94effa7e32b5a5a5",
       "version_major": 2,
       "version_minor": 0
      },
      "text/plain": [
       "  0%|          | 0/2343 [00:00<?, ?it/s]"
      ]
     },
     "metadata": {},
     "output_type": "display_data"
    },
    {
     "name": "stderr",
     "output_type": "stream",
     "text": [
      "You're using a ElectraTokenizerFast tokenizer. Please note that with a fast tokenizer, using the `__call__` method is faster than using a method to encode the text followed by a call to the `pad` method to get a padded encoding.\n"
     ]
    },
    {
     "name": "stdout",
     "output_type": "stream",
     "text": [
      "{'loss': 34.0465, 'learning_rate': 2e-05, 'epoch': 0.06}\n",
      "{'loss': 14.9392, 'learning_rate': 1.956389010030528e-05, 'epoch': 0.13}\n",
      "{'loss': 7.6106, 'learning_rate': 1.9127780200610553e-05, 'epoch': 0.19}\n",
      "{'loss': 4.3207, 'learning_rate': 1.869167030091583e-05, 'epoch': 0.26}\n",
      "{'loss': 3.3331, 'learning_rate': 1.825556040122111e-05, 'epoch': 0.32}\n",
      "{'loss': 2.9999, 'learning_rate': 1.7819450501526386e-05, 'epoch': 0.38}\n",
      "{'loss': 2.9314, 'learning_rate': 1.738334060183166e-05, 'epoch': 0.45}\n",
      "{'loss': 2.9101, 'learning_rate': 1.694723070213694e-05, 'epoch': 0.51}\n",
      "{'loss': 2.5764, 'learning_rate': 1.651112080244222e-05, 'epoch': 0.58}\n",
      "{'loss': 2.2788, 'learning_rate': 1.6075010902747493e-05, 'epoch': 0.64}\n",
      "{'loss': 2.1878, 'learning_rate': 1.563890100305277e-05, 'epoch': 0.7}\n",
      "{'loss': 2.0471, 'learning_rate': 1.5202791103358048e-05, 'epoch': 0.77}\n",
      "{'loss': 2.2156, 'learning_rate': 1.4766681203663324e-05, 'epoch': 0.83}\n",
      "{'loss': 2.4433, 'learning_rate': 1.4330571303968602e-05, 'epoch': 0.9}\n",
      "{'loss': 2.1609, 'learning_rate': 1.3894461404273878e-05, 'epoch': 0.96}\n"
     ]
    },
    {
     "data": {
      "application/vnd.jupyter.widget-view+json": {
       "model_id": "e84752bed3e14864816979ee0667ed8a",
       "version_major": 2,
       "version_minor": 0
      },
      "text/plain": [
       "  0%|          | 0/391 [00:00<?, ?it/s]"
      ]
     },
     "metadata": {},
     "output_type": "display_data"
    },
    {
     "name": "stdout",
     "output_type": "stream",
     "text": [
      "{'eval_loss': 2.465602397918701, 'eval_accuracy': 0.93512, 'eval_rmse': 4.942493086999623, 'eval_runtime': 297.6426, 'eval_samples_per_second': 83.993, 'eval_steps_per_second': 1.314, 'epoch': 1.0}\n",
      "{'loss': 2.0693, 'learning_rate': 1.3458351504579155e-05, 'epoch': 1.02}\n",
      "{'loss': 1.6628, 'learning_rate': 1.3022241604884431e-05, 'epoch': 1.09}\n",
      "{'loss': 1.7881, 'learning_rate': 1.2586131705189707e-05, 'epoch': 1.15}\n",
      "{'loss': 1.5042, 'learning_rate': 1.2150021805494985e-05, 'epoch': 1.22}\n",
      "{'loss': 1.7722, 'learning_rate': 1.1713911905800264e-05, 'epoch': 1.28}\n",
      "{'loss': 1.7048, 'learning_rate': 1.127780200610554e-05, 'epoch': 1.34}\n",
      "{'loss': 1.5205, 'learning_rate': 1.0841692106410818e-05, 'epoch': 1.41}\n",
      "{'loss': 1.776, 'learning_rate': 1.0405582206716094e-05, 'epoch': 1.47}\n",
      "{'loss': 1.5555, 'learning_rate': 9.969472307021371e-06, 'epoch': 1.54}\n",
      "{'loss': 1.3371, 'learning_rate': 9.533362407326647e-06, 'epoch': 1.6}\n",
      "{'loss': 1.3982, 'learning_rate': 9.097252507631925e-06, 'epoch': 1.66}\n",
      "{'loss': 1.987, 'learning_rate': 8.6611426079372e-06, 'epoch': 1.73}\n",
      "{'loss': 1.6941, 'learning_rate': 8.225032708242478e-06, 'epoch': 1.79}\n",
      "{'loss': 1.6718, 'learning_rate': 7.788922808547754e-06, 'epoch': 1.86}\n",
      "{'loss': 1.6261, 'learning_rate': 7.352812908853032e-06, 'epoch': 1.92}\n",
      "{'loss': 1.5504, 'learning_rate': 6.916703009158308e-06, 'epoch': 1.98}\n"
     ]
    },
    {
     "data": {
      "application/vnd.jupyter.widget-view+json": {
       "model_id": "2262199ae6b246bf9c8dc17161bb6b7c",
       "version_major": 2,
       "version_minor": 0
      },
      "text/plain": [
       "  0%|          | 0/391 [00:00<?, ?it/s]"
      ]
     },
     "metadata": {},
     "output_type": "display_data"
    },
    {
     "name": "stdout",
     "output_type": "stream",
     "text": [
      "{'eval_loss': 1.9005815982818604, 'eval_accuracy': 0.95408, 'eval_rmse': 4.971129033816122, 'eval_runtime': 303.2016, 'eval_samples_per_second': 82.453, 'eval_steps_per_second': 1.29, 'epoch': 2.0}\n",
      "{'loss': 1.4426, 'learning_rate': 6.480593109463585e-06, 'epoch': 2.05}\n",
      "{'loss': 1.3537, 'learning_rate': 6.044483209768862e-06, 'epoch': 2.11}\n",
      "{'loss': 1.2151, 'learning_rate': 5.608373310074139e-06, 'epoch': 2.18}\n",
      "{'loss': 1.4597, 'learning_rate': 5.172263410379415e-06, 'epoch': 2.24}\n",
      "{'loss': 1.206, 'learning_rate': 4.736153510684693e-06, 'epoch': 2.3}\n",
      "{'loss': 1.3168, 'learning_rate': 4.30004361098997e-06, 'epoch': 2.37}\n",
      "{'loss': 1.2819, 'learning_rate': 3.863933711295247e-06, 'epoch': 2.43}\n",
      "{'loss': 1.3033, 'learning_rate': 3.4278238116005236e-06, 'epoch': 2.5}\n",
      "{'loss': 1.0715, 'learning_rate': 2.9917139119058004e-06, 'epoch': 2.56}\n",
      "{'loss': 1.3091, 'learning_rate': 2.5556040122110775e-06, 'epoch': 2.62}\n",
      "{'loss': 1.3195, 'learning_rate': 2.1194941125163543e-06, 'epoch': 2.69}\n",
      "{'loss': 1.0062, 'learning_rate': 1.6833842128216312e-06, 'epoch': 2.75}\n",
      "{'loss': 1.1292, 'learning_rate': 1.2472743131269082e-06, 'epoch': 2.82}\n",
      "{'loss': 1.138, 'learning_rate': 8.111644134321849e-07, 'epoch': 2.88}\n",
      "{'loss': 0.9589, 'learning_rate': 3.7505451373746185e-07, 'epoch': 2.94}\n"
     ]
    },
    {
     "data": {
      "application/vnd.jupyter.widget-view+json": {
       "model_id": "3870414d0a73499cbb4c10c76712909a",
       "version_major": 2,
       "version_minor": 0
      },
      "text/plain": [
       "  0%|          | 0/391 [00:00<?, ?it/s]"
      ]
     },
     "metadata": {},
     "output_type": "display_data"
    },
    {
     "name": "stdout",
     "output_type": "stream",
     "text": [
      "{'eval_loss': 1.8625514507293701, 'eval_accuracy': 0.95492, 'eval_rmse': 4.948355800483008, 'eval_runtime': 278.2431, 'eval_samples_per_second': 89.849, 'eval_steps_per_second': 1.405, 'epoch': 3.0}\n",
      "{'train_runtime': 3152.6097, 'train_samples_per_second': 23.79, 'train_steps_per_second': 0.743, 'train_loss': 2.8849616610388242, 'epoch': 3.0}\n"
     ]
    },
    {
     "data": {
      "text/plain": [
       "TrainOutput(global_step=2343, training_loss=2.8849616610388242, metrics={'train_runtime': 3152.6097, 'train_samples_per_second': 23.79, 'train_steps_per_second': 0.743, 'train_loss': 2.8849616610388242, 'epoch': 3.0})"
      ]
     },
     "execution_count": 9,
     "metadata": {},
     "output_type": "execute_result"
    }
   ],
   "source": [
    "training_args = TrainingArguments(\n",
    "    # output_dir=\"electra_large_imdb_reg_spliced_lr5e6\",\n",
    "    output_dir=\"electra_base_imdb_reg_spliced_fix10\",\n",
    "    learning_rate=2e-5,\n",
    "    per_device_train_batch_size=16,\n",
    "    per_device_eval_batch_size=64,\n",
    "    gradient_accumulation_steps=2,\n",
    "    num_train_epochs=3,\n",
    "    weight_decay=0.01,\n",
    "    evaluation_strategy=\"epoch\",\n",
    "    save_strategy=\"epoch\",\n",
    "    logging_steps=50,\n",
    "    warmup_steps=50,\n",
    "    # torch_compile=True,\n",
    "    # fp16=True,\n",
    "    # load_best_model_at_end=True,\n",
    "    # push_to_hub=True,\n",
    ")\n",
    "\n",
    "trainer = Trainer(\n",
    "    model=model,\n",
    "    args=training_args,\n",
    "    train_dataset=tokenized_imdb[\"train\"],\n",
    "    eval_dataset=tokenized_imdb[\"test\"],\n",
    "    tokenizer=tokenizer,\n",
    "    data_collator=data_collator,\n",
    "    compute_metrics=compute_metrics,\n",
    ")\n",
    "\n",
    "trainer.train()"
   ]
  },
  {
   "cell_type": "code",
   "execution_count": 10,
   "metadata": {},
   "outputs": [
    {
     "data": {
      "text/plain": [
       "SequenceClassifierOutput(loss=None, logits=tensor([[8.8437]], device='cuda:0', grad_fn=<AddmmBackward0>), hidden_states=None, attentions=None)"
      ]
     },
     "execution_count": 10,
     "metadata": {},
     "output_type": "execute_result"
    }
   ],
   "source": [
    "model(**(tokenizer(\"\"\"When I was a kid I watched this many times over, and I remember whistling the \"Happy Cat\" song quite often. All the songs are great, and actually memorable, unlike many children's musicals, where the songs are just stuck in for no real reason. The scenes and costumes are lavish, and the acting is very well-done, which isn't surprising, considering the cast. Christopher Walken is very catlike, and doesn't need stupid make-up, or a cat costume for the viewer to believe he's a cat transformed to a human. And Jason Connery's so cute, as the shy and awkward miller's son, Corin, who falls in love with beautiful and the bold Princess Vera. This is a really fun, enjoyable, feature-length movie, where unlike most fairytales, the characters are given personalities. Some of my favourite parts are when Puss makes Corin pretend he's drowning; at the ball when everybody starts dancing a country dance, as it's \"all the rage abroad\"; when Walken is in the kitchen, dancing on the table (he's a pretty good dancer, too!); and when Vera tells Corin all the things she used to do when she was young, like pretending she was a miller's daughter. I'd recommend this film to children and parents alike, who love magic and fairytales. And it actually IS a movie you can watch together, as it won't drive adults up the wall.\"\"\", return_tensors=\"pt\").to('cuda')))"
   ]
  },
  {
   "cell_type": "code",
   "execution_count": 20,
   "metadata": {},
   "outputs": [
    {
     "data": {
      "text/plain": [
       "tensor([[6.1508]], device='cuda:0', grad_fn=<AddmmBackward0>)"
      ]
     },
     "execution_count": 20,
     "metadata": {},
     "output_type": "execute_result"
    }
   ],
   "source": [
    "model(**(tokenizer(\"It was a bit boring. Kinda drawn out but fine ig.\", return_tensors=\"pt\").to('cuda'))).logits"
   ]
  },
  {
   "cell_type": "code",
   "execution_count": 60,
   "metadata": {},
   "outputs": [],
   "source": [
    "torch.cuda.empty_cache()"
   ]
  },
  {
   "cell_type": "code",
   "execution_count": null,
   "metadata": {},
   "outputs": [],
   "source": []
  },
  {
   "cell_type": "code",
   "execution_count": null,
   "metadata": {},
   "outputs": [],
   "source": []
  },
  {
   "cell_type": "code",
   "execution_count": 57,
   "metadata": {},
   "outputs": [
    {
     "data": {
      "text/plain": [
       "tensor([[0.3959, 0.6041]], device='cuda:0', grad_fn=<SoftmaxBackward0>)"
      ]
     },
     "execution_count": 57,
     "metadata": {},
     "output_type": "execute_result"
    }
   ],
   "source": [
    "F.softmax(model(**(tokenizer(\"This was a fine movie, but I wouldn't watch it again to be honest, a bit too drawn out for my liking. My friends liked it though, so if you like detectives, you may want to watch it, if you have some spare time.\", return_tensors=\"pt\").to('cuda'))).logits, dim=1)"
   ]
  },
  {
   "cell_type": "code",
   "execution_count": 55,
   "metadata": {},
   "outputs": [
    {
     "data": {
      "text/plain": [
       "tensor([[0.9930, 0.0070]], device='cuda:0', grad_fn=<SoftmaxBackward0>)"
      ]
     },
     "execution_count": 55,
     "metadata": {},
     "output_type": "execute_result"
    }
   ],
   "source": [
    "F.softmax(model(**(tokenizer(\"I was absolutely extatic when I left the cinema! It was such a relief when I knew that it was over and I won't have to watch this joke of a movie again! Honestly would go to this movie again just to leave as soon as it starts, lol\", return_tensors=\"pt\").to('cuda'))).logits, dim=1)"
   ]
  },
  {
   "cell_type": "code",
   "execution_count": 20,
   "metadata": {},
   "outputs": [
    {
     "data": {
      "text/plain": [
       "SequenceClassifierOutput(loss=None, logits=tensor([[-0.2006,  0.1987]], device='cuda:0', grad_fn=<AddmmBackward0>), hidden_states=None, attentions=None)"
      ]
     },
     "execution_count": 20,
     "metadata": {},
     "output_type": "execute_result"
    }
   ],
   "source": [
    "model.forward(**(tokenizer('hello', return_tensors=\"pt\").to('cuda')))"
   ]
  },
  {
   "cell_type": "code",
   "execution_count": null,
   "metadata": {},
   "outputs": [],
   "source": []
  }
 ],
 "metadata": {
  "kernelspec": {
   "display_name": "sentenv",
   "language": "python",
   "name": "python3"
  },
  "language_info": {
   "codemirror_mode": {
    "name": "ipython",
    "version": 3
   },
   "file_extension": ".py",
   "mimetype": "text/x-python",
   "name": "python",
   "nbconvert_exporter": "python",
   "pygments_lexer": "ipython3",
   "version": "3.10.12"
  },
  "orig_nbformat": 4
 },
 "nbformat": 4,
 "nbformat_minor": 2
}
