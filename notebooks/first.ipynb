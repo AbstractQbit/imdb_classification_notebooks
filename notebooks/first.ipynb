{
 "cells": [
  {
   "cell_type": "code",
   "execution_count": 1,
   "metadata": {},
   "outputs": [],
   "source": [
    "import os\n",
    "import pandas as pd\n",
    "import numpy as np\n",
    "from matplotlib import pyplot as plt\n",
    "%matplotlib inline\n",
    "import seaborn as sns"
   ]
  },
  {
   "cell_type": "code",
   "execution_count": 2,
   "metadata": {},
   "outputs": [],
   "source": [
    "def read_directory(dir):\n",
    "    res = []\n",
    "    for filename in os.listdir(dir):\n",
    "        with open(dir+filename) as file:\n",
    "            res.append((filename.split('.')[0], file.read()))\n",
    "    return res\n",
    "\n",
    "def read_labeled(pos_dir, neg_dir):\n",
    "    df_train_pos = pd.DataFrame.from_records(read_directory(pos_dir), index=\"id\", columns=(\"id\", \"review\"))\n",
    "    df_train_pos[\"positive\"] = True\n",
    "    df_train_neg = pd.DataFrame.from_records(read_directory(neg_dir), index=\"id\", columns=(\"id\", \"review\"))\n",
    "    df_train_neg[\"positive\"] = False\n",
    "    return pd.concat((df_train_pos, df_train_neg))"
   ]
  },
  {
   "cell_type": "code",
   "execution_count": 3,
   "metadata": {},
   "outputs": [
    {
     "data": {
      "text/html": [
       "<div>\n",
       "<style scoped>\n",
       "    .dataframe tbody tr th:only-of-type {\n",
       "        vertical-align: middle;\n",
       "    }\n",
       "\n",
       "    .dataframe tbody tr th {\n",
       "        vertical-align: top;\n",
       "    }\n",
       "\n",
       "    .dataframe thead th {\n",
       "        text-align: right;\n",
       "    }\n",
       "</style>\n",
       "<table border=\"1\" class=\"dataframe\">\n",
       "  <thead>\n",
       "    <tr style=\"text-align: right;\">\n",
       "      <th></th>\n",
       "      <th>review</th>\n",
       "      <th>positive</th>\n",
       "    </tr>\n",
       "    <tr>\n",
       "      <th>id</th>\n",
       "      <th></th>\n",
       "      <th></th>\n",
       "    </tr>\n",
       "  </thead>\n",
       "  <tbody>\n",
       "    <tr>\n",
       "      <th>0_9</th>\n",
       "      <td>Bromwell High is a cartoon comedy. It ran at t...</td>\n",
       "      <td>True</td>\n",
       "    </tr>\n",
       "    <tr>\n",
       "      <th>10000_8</th>\n",
       "      <td>Homelessness (or Houselessness as George Carli...</td>\n",
       "      <td>True</td>\n",
       "    </tr>\n",
       "    <tr>\n",
       "      <th>10001_10</th>\n",
       "      <td>Brilliant over-acting by Lesley Ann Warren. Be...</td>\n",
       "      <td>True</td>\n",
       "    </tr>\n",
       "    <tr>\n",
       "      <th>10002_7</th>\n",
       "      <td>This is easily the most underrated film inn th...</td>\n",
       "      <td>True</td>\n",
       "    </tr>\n",
       "    <tr>\n",
       "      <th>10003_8</th>\n",
       "      <td>This is not the typical Mel Brooks film. It wa...</td>\n",
       "      <td>True</td>\n",
       "    </tr>\n",
       "    <tr>\n",
       "      <th>...</th>\n",
       "      <td>...</td>\n",
       "      <td>...</td>\n",
       "    </tr>\n",
       "    <tr>\n",
       "      <th>9998_4</th>\n",
       "      <td>Towards the end of the movie, I felt it was to...</td>\n",
       "      <td>False</td>\n",
       "    </tr>\n",
       "    <tr>\n",
       "      <th>9999_3</th>\n",
       "      <td>This is the kind of movie that my enemies cont...</td>\n",
       "      <td>False</td>\n",
       "    </tr>\n",
       "    <tr>\n",
       "      <th>999_3</th>\n",
       "      <td>I saw 'Descent' last night at the Stockholm Fi...</td>\n",
       "      <td>False</td>\n",
       "    </tr>\n",
       "    <tr>\n",
       "      <th>99_1</th>\n",
       "      <td>Some films that you pick up for a pound turn o...</td>\n",
       "      <td>False</td>\n",
       "    </tr>\n",
       "    <tr>\n",
       "      <th>9_1</th>\n",
       "      <td>This is one of the dumbest films, I've ever se...</td>\n",
       "      <td>False</td>\n",
       "    </tr>\n",
       "  </tbody>\n",
       "</table>\n",
       "<p>25000 rows × 2 columns</p>\n",
       "</div>"
      ],
      "text/plain": [
       "                                                     review  positive\n",
       "id                                                                   \n",
       "0_9       Bromwell High is a cartoon comedy. It ran at t...      True\n",
       "10000_8   Homelessness (or Houselessness as George Carli...      True\n",
       "10001_10  Brilliant over-acting by Lesley Ann Warren. Be...      True\n",
       "10002_7   This is easily the most underrated film inn th...      True\n",
       "10003_8   This is not the typical Mel Brooks film. It wa...      True\n",
       "...                                                     ...       ...\n",
       "9998_4    Towards the end of the movie, I felt it was to...     False\n",
       "9999_3    This is the kind of movie that my enemies cont...     False\n",
       "999_3     I saw 'Descent' last night at the Stockholm Fi...     False\n",
       "99_1      Some films that you pick up for a pound turn o...     False\n",
       "9_1       This is one of the dumbest films, I've ever se...     False\n",
       "\n",
       "[25000 rows x 2 columns]"
      ]
     },
     "execution_count": 3,
     "metadata": {},
     "output_type": "execute_result"
    }
   ],
   "source": [
    "df_train = read_labeled(\"./aclImdb/train/pos/\", \"./aclImdb/train/neg/\")\n",
    "df_train"
   ]
  },
  {
   "cell_type": "code",
   "execution_count": 4,
   "metadata": {},
   "outputs": [
    {
     "data": {
      "text/plain": [
       "count    25000.00000\n",
       "mean      1325.06964\n",
       "std       1003.13367\n",
       "min         52.00000\n",
       "25%        702.00000\n",
       "50%        979.00000\n",
       "75%       1614.00000\n",
       "max      13704.00000\n",
       "Name: review, dtype: float64"
      ]
     },
     "execution_count": 4,
     "metadata": {},
     "output_type": "execute_result"
    }
   ],
   "source": [
    "df_train.review.map(lambda x: len(x)).describe()"
   ]
  },
  {
   "cell_type": "code",
   "execution_count": 5,
   "metadata": {},
   "outputs": [
    {
     "data": {
      "text/plain": [
       "'Match 1: Tag Team Table Match Bubba Ray and Spike Dudley vs Eddie Guerrero and Chris Benoit Bubba Ray and Spike Dudley started things off with a Tag Team Table Match against Eddie Guerrero and Chris Benoit. According to the rules of the match, both opponents have to go through tables in order to get the win. Benoit and Guerrero heated up early on by taking turns hammering first Spike and then Bubba Ray. A German suplex by Benoit to Bubba took the wind out of the Dudley brother. Spike tried to help his brother, but the referee restrained him while Benoit and Guerrero ganged up on him in the corner. With Benoit stomping away on Bubba, Guerrero set up a table outside. Spike dashed into the ring and somersaulted over the top rope onto Guerrero on the outside! After recovering and taking care of Spike, Guerrero slipped a table into the ring and helped the Wolverine set it up. The tandem then set up for a double superplex from the middle rope which would have put Bubba through the table, but Spike knocked the table over right before his brother came crashing down! Guerrero and Benoit propped another table in the corner and tried to Irish Whip Spike through it, but Bubba dashed in and blocked his brother. Bubba caught fire and lifted both opponents into back body drops! Bubba slammed Guerrero and Spike stomped on the Wolverine from off the top rope. Bubba held Benoit at bay for Spike to soar into the Wassup! headbutt! Shortly after, Benoit latched Spike in the Crossface, but the match continued even after Spike tapped out. Bubba came to his brother\\'s rescue and managed to sprawl Benoit on a table. Bubba leapt from the middle rope, but Benoit moved and sent Bubba crashing through the wood! But because his opponents didn\\'t force him through the table, Bubba was allowed to stay in the match. The first man was eliminated shortly after, though, as Spike put Eddie through a table with a Dudley Dawg from the ring apron to the outside! Benoit put Spike through a table moments later to even the score. Within seconds, Bubba nailed a Bubba Bomb that put Benoit through a table and gave the Dudleys the win! Winner: Bubba Ray and Spike Dudley<br /><br />Match 2: Cruiserweight Championship Jamie Noble vs Billy Kidman Billy Kidman challenged Jamie Noble, who brought Nidia with him to the ring, for the Cruiserweight Championship. Noble and Kidman locked up and tumbled over the ring, but raced back inside and grappled some more. When Kidman thwarted all Noble\\'s moves, Noble fled outside the ring where Nidia gave him some encouragement. The fight spread outside the ring and Noble threw his girlfriend into the challenger. Kidman tossed Nidia aside but was taken down with a modified arm bar. Noble continued to attack Kidman\\'s injured arm back in the ring. Kidman\\'s injured harm hampered his offense, but he continued to battle hard. Noble tried to put Kidman away with a powerbomb but the challenger countered into a facebuster. Kidman went to finish things with a Shooting Star Press, but Noble broke up the attempt. Kidman went for the Shooting Star Press again, but this time Noble just rolled out of harm\\'s way. Noble flipped Kidman into a power bomb soon after and got the pin to retain his WWE Cruiserweight Championship! Winner: Jamie Noble<br /><br />Match 3: European Championship William Regal vs Jeff Hardy William Regal took on Jeff Hardy next in an attempt to win back the European Championship. Jeff catapulted Regal over the top rope then took him down with a hurracanrana off the ring apron. Back in the ring, Jeff hit the Whisper in the wind to knock Regal for a loop. Jeff went for the Swanton Bomb, but Regal got his knees up to hit Jeff with a devastating shot. Jeff managed to surprise Regal with a quick rollup though and got the pin to keep the European Championship! Regal started bawling at seeing Hardy celebrate on his way back up the ramp. Winner: Jeff Hardy<br /><br />Match 4: Chris Jericho vs John Cena Chris Jericho had promised to end John Cena\\'s career in their match at Vengeance, which came up next. Jericho tried to teach Cena a lesson as their match began by suplexing him to the mat. Jericho continued to knock Cena around the ring until his cockiness got the better of him. While on the top rope, Jericho began to showboat and allowed Cena to grab him for a superplex! Cena followed with a tilt-a-whirl slam but was taken down with a nasty dropkick to the gut. The rookie recovered and hit a belly to belly suplex but couldn\\'t put Y2J away. Jericho launched into the Lionsault but Cena dodged the move. Jericho nailed a bulldog and then connected on the Lionsault, but did not go for the cover. He goaded Cena to his feet so he could put on the Walls of Jericho. Cena had other ideas, reversing the move into a pin attempt and getting the 1-2-3! Jericho went berserk after the match. Winner: John Cena<br /><br />Match 5: Intercontinental Championship RVD vs Brock Lesnar via disqualification The Next Big Thing and Mr. Pay-Per-View tangled with the Intercontinental Championship on the line. Brock grabbed the title from the ref and draped it over his shoulder momentarily while glaring at RVD. Van Dam \\'s quickness gave Brock fits early on. The big man rolled out of the ring and kicked the steel steps out of frustration. Brock pulled himself together and began to take charge. With Paul Heyman beaming at ringside, Brock slammed RVD to the hard floor outside the ring. From there, Brock began to overpower RVD, throwing him with ease over the top rope. RVD landed painfully on his back, then had to suffer from having his spine cracked against the steel ring steps. The fight returned to the ring with Brock squeezing RVD around the ribs. RVD broke away and soon after leveled Brock with a kick to the temple. RVD followed with the Rolling Thunder but Brock managed to kick out after a two-count. The fight looked like it might be over soon as RVD went for a Five-Star Frog Splash. Brock, though, hoisted Van Dam onto his shoulder and went for the F-5, but RVD whirled Brock into a DDT and followed with the Frog Splash! He went for the pin, but Heyman pulled the ref from the ring! The ref immediately called for a disqualification and soon traded blows with Heyman! After, RVD leapt onto Brock from the top rope and then threatened to hit the Van Terminator! Heyman grabbed RVD\\'s leg and Brock picked up the champ and this time connected with the F-5 onto a steel chair! Winner: RVD<br /><br />Match 6: Booker T vs the Big Show Booker T faced the Big Show one-on-one next. Show withstood Booker T\\'s kicks and punches and slapped Booker into the corner. After being thrown from the ring, Booker picked up a chair at ringside, but Big Show punched it back into Booker\\'s face. Booker tried to get back into the game by choking Show with a camera cable at ringside. Booker smashed a TV monitor from the Spanish announcers\\' position into Show\\'s skull, then delivered a scissors kick that put both men through the table! Booker crawled back into the ring and Big Show staggered in moments later. Show grabbed Booker\\'s throat but was met by a low blow and a kick to the face. Booker climbed the top rope and nailed a somersaulting leg drop to get the pin! Winner: Booker T<br /><br />Announcement: Triple H entered the ring to a thunderous ovation as fans hoped to learn where The Game would end up competing. Before he could speak, Eric Bishoff stopped The Game to apologize for getting involved in his personal business. If Triple H signed with RAW, Bischoff promised his personal life would never come into play again. Bischoff said he\\'s spent the past two years networking in Hollywood. He said everyone was looking for the next breakout WWE Superstar, and they were all talking about Triple H. Bischoff guaranteed that if Triple H signed with RAW, he\\'d be getting top opportunities coming his way. Stephanie McMahon stepped out to issue her own pitch. She said that because of her personal history with Triple H, the two of them know each other very well. She said the two of them were once unstoppable and they can be again. Bischoff cut her off and begged her to stop. Stephanie cited that Triple H once told her how Bischoff said Triple H had no talent and no charisma. Bischoff said he was young at the time and didn\\'t know what he had, but he still has a lot more experience that Stephanie. The two continued to bicker back and forth, until Triple H stepped up with his microphone. The Game said it would be easy to say \"screw you\" to either one of them. Triple H went to shake Bischoff\\'s hand, but pulled it away. He said he would rather go with the devil he knows, rather than the one he doesn\\'t know. Before he could go any further, though, Shawn Michaels came out to shake things up. HBK said the last thing he wanted to do was cause any trouble. He didn\\'t want to get involved, but he remembered pledging to bring Triple H to the nWo. HBK said there\\'s nobody in the world that Triple H is better friends with. HBK told his friend to imagine the two back together again, making Bischoff\\'s life a living hell. Triple H said that was a tempting offer. He then turned and hugged HBK, making official his switch to RAW! Triple H and HBK left, and Bischoff gloated over his victory. Bischoff said the difference between the two of them is that he\\'s got testicles and she doesn\\'t. Stephanie whacked Bischoff on the side of the head and left!<br /><br />Match 7: Tag Team Championship Match Christian and Lance Storm vs Hollywood Hogan and Edge The match started with loud \"USA\" chants and with Hogan shoving Christian through the ropes and out of the ring. The Canadians took over from there. But Edge scored a kick to Christian\\'s head and planted a facebuster on Storm to get the tag to Hogan. Hogan began to Hulk up and soon caught Christian with a big boot and a leg drop! Storm broke up the count and Christian tossed Hogan from the ring where Storm superkicked the icon. Edge tagged in soon after and dropped both opponents. He speared both of them into the corner turnbuckles, but missed a spear on Strom and hit the ref hard instead. Edge nailed a DDT, but the ref was down and could not count. Test raced down and took down Hogan then leveled Edge with a boot. Storm tried to get the pin, but Edge kicked out after two. Riksihi sprinted in to fend off Test, allowing Edge to recover and spear Storm. Christian distracted the ref, though, and Y2J dashed in and clocked Edge with the Tag Team Championship! Storm rolled over and got the pinfall to win the title! Winners and New Tag Team Champions: Christian and Lance Storm<br /><br />Match 8: WWE Undisputed Championship Triple Threat Match. The Rock vs Kurt Angle and the Undertaker Three of WWE\\'s most successful superstars lined up against each other in a Triple Threat Match with the Undisputed Championship hanging in the balance. Taker and The Rock got face to face with Kurt Angle begging for some attention off to the side. He got attention in the form of a beat down form the two other men. Soon after, Taker spilled out of the ring and The Rock brawled with Angle. Angle gave a series of suplexes that took down Rock, but the Great One countered with a DDT that managed a two-count. The fight continued outside the ring with Taker coming to life and clotheslining Angle and repeatedly smacking The Rock. Taker and Rock got into it back into the ring, and Taker dropped The Rock with a sidewalk slam to get a two-count. Rock rebounded, grabbed Taker by the throat and chokeslammed him! Angle broke up the pin attempt that likely would have given The Rock the title. The Rock retaliated by latching on the ankle lock to Kurt Angle. Angle reversed the move and Rock Bottomed the People\\'s Champion. Soon after, The Rock disposed of Angle and hit the People\\'s Elbow on the Undertaker. Angle tried to take advantage by disabling the Great One outside the ring and covering Taker, who kicked out after a two count. Outside the ring, Rock took a big swig from a nearby water bottle and spewed the liquid into Taker\\'s face to blind the champion. Taker didn\\'t stay disabled for long, and managed to overpower Rock and turn his attention to Angle. Taker landed a guillotine leg drop onto Angle, laying on the ring apron. The Rock picked himself up just in time to break up a pin attempt on Kurt Angle. Taker nailed Rock with a DDT and set him up for a chokeslam. ANgle tried sneaking up with a steel chair, but Taker caught on to that tomfoolery and smacked it out of his hands. The referee got caught in the ensuing fire and didn\\'t see Angle knock Taker silly with a steel chair. Angle went to cover Taker as The Rock lay prone, but the Dead Man somehow got his shoulder up. Angle tried to pin Rock, but he too kicked out. The Rock got up and landed Angle in the sharpshooter! Angle looked like he was about to tap, but Taker kicked The Rock out of the submission hold. Taker picked Rock up and crashed him with the Last Ride. While the Dead Man covered him for the win, Angle raced in and picked Taker up in the ankle lock! Taker went delirious with pain, but managed to counter. He picked Angle up for the last ride, but Angle put on a triangle choke! It looked like Taker was about to pass out, but The Rock broke Angle\\'s hold only to find himself caught in the ankle lock. Rock got out of the hold and watched Taker chokeslam Angle. Rocky hit the Rock Bottom, but Taker refused to go down and kicked out. Angle whirled Taker up into the Angle Slam but was Rock Bottomed by the Great One and pinned! Winner and New WWE Champion: The Rock<br /><br />~Finally there is a decent PPV! Lately the PPV weren\\'t very good, but this one was a winner. I give this PPV a A-<br /><br />'"
      ]
     },
     "execution_count": 5,
     "metadata": {},
     "output_type": "execute_result"
    }
   ],
   "source": [
    "df_train.review[df_train.review.map(lambda x: len(x)).idxmax()]"
   ]
  },
  {
   "cell_type": "code",
   "execution_count": 6,
   "metadata": {},
   "outputs": [],
   "source": [
    "from sklearn.feature_extraction.text import TfidfVectorizer\n",
    "from sklearn.pipeline import Pipeline\n",
    "from sklearn.metrics import confusion_matrix, accuracy_score, classification_report\n",
    "from sklearn.svm import LinearSVC\n",
    "from sklearn.linear_model import LogisticRegression\n",
    "from sklearn.ensemble import RandomForestClassifier\n",
    "from sklearn.ensemble import GradientBoostingClassifier\n",
    "from sklearn.model_selection import train_test_split\n"
   ]
  },
  {
   "cell_type": "code",
   "execution_count": 7,
   "metadata": {},
   "outputs": [],
   "source": [
    "from sklearn.calibration import CalibratedClassifierCV"
   ]
  },
  {
   "cell_type": "code",
   "execution_count": 8,
   "metadata": {},
   "outputs": [],
   "source": [
    "x_train,x_test,y_train,y_test = train_test_split(df_train.review, df_train.positive, test_size = 0.2)"
   ]
  },
  {
   "cell_type": "code",
   "execution_count": 9,
   "metadata": {},
   "outputs": [
    {
     "name": "stderr",
     "output_type": "stream",
     "text": [
      "c:\\Users\\Abstract\\mambaforge\\envs\\sentenv\\lib\\site-packages\\sklearn\\svm\\_classes.py:32: FutureWarning: The default value of `dual` will change from `True` to `'auto'` in 1.5. Set the value of `dual` explicitly to suppress the warning.\n",
      "  warnings.warn(\n",
      "c:\\Users\\Abstract\\mambaforge\\envs\\sentenv\\lib\\site-packages\\sklearn\\svm\\_classes.py:32: FutureWarning: The default value of `dual` will change from `True` to `'auto'` in 1.5. Set the value of `dual` explicitly to suppress the warning.\n",
      "  warnings.warn(\n",
      "c:\\Users\\Abstract\\mambaforge\\envs\\sentenv\\lib\\site-packages\\sklearn\\svm\\_classes.py:32: FutureWarning: The default value of `dual` will change from `True` to `'auto'` in 1.5. Set the value of `dual` explicitly to suppress the warning.\n",
      "  warnings.warn(\n",
      "c:\\Users\\Abstract\\mambaforge\\envs\\sentenv\\lib\\site-packages\\sklearn\\svm\\_classes.py:32: FutureWarning: The default value of `dual` will change from `True` to `'auto'` in 1.5. Set the value of `dual` explicitly to suppress the warning.\n",
      "  warnings.warn(\n",
      "c:\\Users\\Abstract\\mambaforge\\envs\\sentenv\\lib\\site-packages\\sklearn\\svm\\_classes.py:32: FutureWarning: The default value of `dual` will change from `True` to `'auto'` in 1.5. Set the value of `dual` explicitly to suppress the warning.\n",
      "  warnings.warn(\n"
     ]
    }
   ],
   "source": [
    "Classifier_svc = Pipeline([\n",
    "    ('tfIdf', TfidfVectorizer(\n",
    "        max_df=0.95,\n",
    "        min_df=5,\n",
    "        ngram_range=(1,2)\n",
    "    )),\n",
    "    ('cl', CalibratedClassifierCV(LinearSVC())),\n",
    "    # ('classifier', LogisticRegression())\n",
    "    # ('classifier', GradientBoostingClassifier(n_estimators=100, max_depth=3, verbose=True, subsample=0.1))\n",
    "])\n",
    "Classifier_svc.fit(x_train, y_train)\n",
    "pred = Classifier_svc.predict(x_test)\n"
   ]
  },
  {
   "cell_type": "code",
   "execution_count": 10,
   "metadata": {},
   "outputs": [
    {
     "name": "stdout",
     "output_type": "stream",
     "text": [
      "[[2244  264]\n",
      " [ 228 2264]]\n",
      "\n",
      "\n",
      "Accuracy :  0.9016\n",
      "\n",
      "\n",
      "              precision    recall  f1-score   support\n",
      "\n",
      "       False       0.91      0.89      0.90      2508\n",
      "        True       0.90      0.91      0.90      2492\n",
      "\n",
      "    accuracy                           0.90      5000\n",
      "   macro avg       0.90      0.90      0.90      5000\n",
      "weighted avg       0.90      0.90      0.90      5000\n",
      "\n"
     ]
    },
    {
     "data": {
      "text/plain": [
       "<Axes: >"
      ]
     },
     "execution_count": 10,
     "metadata": {},
     "output_type": "execute_result"
    },
    {
     "data": {
      "image/png": "[encoded data removed]",
      "text/plain": [
       "<Figure size 640x480 with 2 Axes>"
      ]
     },
     "metadata": {},
     "output_type": "display_data"
    }
   ],
   "source": [
    "cm = confusion_matrix(y_test, pred)\n",
    "print(cm)\n",
    "print('\\n')\n",
    "\n",
    "print(\"Accuracy : \", accuracy_score(y_test, pred))\n",
    "print('\\n')\n",
    "print(classification_report(y_test, pred))\n",
    "\n",
    "sns.heatmap(cm/cm.sum(), annot=True)\n"
   ]
  },
  {
   "cell_type": "code",
   "execution_count": 11,
   "metadata": {},
   "outputs": [
    {
     "name": "stdout",
     "output_type": "stream",
     "text": [
      "[[0.41811443 0.58188557]]\n"
     ]
    }
   ],
   "source": [
    "print(Classifier_svc.predict_proba([\"I viewed this movie! Absolutely Stunning! Will go to watch it again, eww the film not looking at all, actors played their role\"]))"
   ]
  },
  {
   "cell_type": "code",
   "execution_count": 12,
   "metadata": {},
   "outputs": [],
   "source": [
    "tfidf = Classifier_svc.steps[0][1]"
   ]
  },
  {
   "cell_type": "code",
   "execution_count": 13,
   "metadata": {},
   "outputs": [
    {
     "data": {
      "text/plain": [
       "129884"
      ]
     },
     "execution_count": 13,
     "metadata": {},
     "output_type": "execute_result"
    }
   ],
   "source": [
    "len(tfidf.vocabulary_)"
   ]
  },
  {
   "cell_type": "code",
   "execution_count": null,
   "metadata": {},
   "outputs": [],
   "source": []
  },
  {
   "cell_type": "code",
   "execution_count": null,
   "metadata": {},
   "outputs": [],
   "source": []
  },
  {
   "cell_type": "code",
   "execution_count": 40,
   "metadata": {},
   "outputs": [],
   "source": [
    "import torch\n",
    "from transformers import AutoTokenizer, AutoModelForCausalLM, XLNetForSequenceClassification, XLNetModel\n"
   ]
  },
  {
   "cell_type": "code",
   "execution_count": 46,
   "metadata": {},
   "outputs": [
    {
     "name": "stderr",
     "output_type": "stream",
     "text": [
      "Some weights of XLNetForSequenceClassification were not initialized from the model checkpoint at xlnet-base-cased and are newly initialized: ['logits_proj.weight', 'sequence_summary.summary.bias', 'sequence_summary.summary.weight', 'logits_proj.bias']\n",
      "You should probably TRAIN this model on a down-stream task to be able to use it for predictions and inference.\n"
     ]
    }
   ],
   "source": [
    "tokenizer = AutoTokenizer.from_pretrained(\"xlnet-base-cased\")\n",
    "model = XLNetForSequenceClassification.from_pretrained(\"xlnet-base-cased\", num_labels=1).to('cuda')"
   ]
  },
  {
   "cell_type": "code",
   "execution_count": 47,
   "metadata": {},
   "outputs": [
    {
     "data": {
      "text/plain": [
       "XLNetForSequenceClassification(\n",
       "  (transformer): XLNetModel(\n",
       "    (word_embedding): Embedding(32000, 768)\n",
       "    (layer): ModuleList(\n",
       "      (0-11): 12 x XLNetLayer(\n",
       "        (rel_attn): XLNetRelativeAttention(\n",
       "          (layer_norm): LayerNorm((768,), eps=1e-12, elementwise_affine=True)\n",
       "          (dropout): Dropout(p=0.1, inplace=False)\n",
       "        )\n",
       "        (ff): XLNetFeedForward(\n",
       "          (layer_norm): LayerNorm((768,), eps=1e-12, elementwise_affine=True)\n",
       "          (layer_1): Linear(in_features=768, out_features=3072, bias=True)\n",
       "          (layer_2): Linear(in_features=3072, out_features=768, bias=True)\n",
       "          (dropout): Dropout(p=0.1, inplace=False)\n",
       "          (activation_function): GELUActivation()\n",
       "        )\n",
       "        (dropout): Dropout(p=0.1, inplace=False)\n",
       "      )\n",
       "    )\n",
       "    (dropout): Dropout(p=0.1, inplace=False)\n",
       "  )\n",
       "  (sequence_summary): SequenceSummary(\n",
       "    (summary): Linear(in_features=768, out_features=768, bias=True)\n",
       "    (activation): Tanh()\n",
       "    (first_dropout): Identity()\n",
       "    (last_dropout): Dropout(p=0.1, inplace=False)\n",
       "  )\n",
       "  (logits_proj): Linear(in_features=768, out_features=1, bias=True)\n",
       ")"
      ]
     },
     "execution_count": 47,
     "metadata": {},
     "output_type": "execute_result"
    }
   ],
   "source": [
    "model"
   ]
  },
  {
   "cell_type": "code",
   "execution_count": 48,
   "metadata": {},
   "outputs": [],
   "source": [
    "for param in model.transformer.parameters():\n",
    "    param.requires_grad = False\n"
   ]
  },
  {
   "cell_type": "code",
   "execution_count": 49,
   "metadata": {},
   "outputs": [
    {
     "data": {
      "text/plain": [
       "torch.Size([1, 3251])"
      ]
     },
     "execution_count": 49,
     "metadata": {},
     "output_type": "execute_result"
    }
   ],
   "source": [
    "inputs = tokenizer(df_train.review[df_train.review.map(lambda x: len(x)).idxmax()], return_tensors=\"pt\").to('cuda')\n",
    "# inputs = tokenizer(df_train.review[1], return_tensors=\"pt\")\n",
    "inputs['input_ids'].shape"
   ]
  },
  {
   "cell_type": "code",
   "execution_count": 53,
   "metadata": {},
   "outputs": [
    {
     "data": {
      "text/plain": [
       "XLNetForSequenceClassificationOutput(loss=None, logits=tensor([[-0.4477]], device='cuda:0'), mems=(tensor([[[-0.0513, -0.0276, -0.1103,  ...,  0.0411, -0.0054, -0.0982]],\n",
       "\n",
       "        [[ 0.0205,  0.0293,  0.0087,  ..., -0.0801,  0.0118,  0.0319]],\n",
       "\n",
       "        [[ 0.0021, -0.0177, -0.0014,  ..., -0.0916, -0.0789, -0.0094]],\n",
       "\n",
       "        ...,\n",
       "\n",
       "        [[-0.0431,  0.0640,  0.0226,  ...,  0.0488, -0.0137,  0.1968]],\n",
       "\n",
       "        [[ 0.0788, -0.0583, -0.0905,  ...,  0.0493,  0.0634, -0.0520]],\n",
       "\n",
       "        [[ 0.0181, -0.0015, -0.1494,  ...,  0.0012, -0.0009,  0.0188]]],\n",
       "       device='cuda:0'), tensor([[[-0.5865, -0.3098, -2.5139,  ...,  0.5070, -0.6107, -1.6163]],\n",
       "\n",
       "        [[ 1.1259,  1.2640,  0.4473,  ..., -2.0993,  0.1832,  0.4794]],\n",
       "\n",
       "        [[ 0.0534, -0.8553, -0.8281,  ..., -1.5194, -1.2074, -0.7259]],\n",
       "\n",
       "        ...,\n",
       "\n",
       "        [[-0.4726,  0.9488,  0.1310,  ...,  0.7502, -0.3187,  2.9045]],\n",
       "\n",
       "        [[ 1.2140, -0.8248, -1.4698,  ...,  0.7650,  0.4106, -0.0954]],\n",
       "\n",
       "        [[ 0.5497, -0.2334, -2.3614,  ...,  0.2787, -0.0975,  0.2541]]],\n",
       "       device='cuda:0'), tensor([[[-0.3240,  0.0124, -1.8119,  ...,  0.6821, -0.7582, -1.1682]],\n",
       "\n",
       "        [[ 1.1037,  0.5532,  0.3602,  ..., -1.5625,  0.3066,  0.7781]],\n",
       "\n",
       "        [[ 0.1781, -1.1867, -0.8786,  ..., -0.4264, -1.0238, -0.2827]],\n",
       "\n",
       "        ...,\n",
       "\n",
       "        [[-0.6605,  0.6215, -0.1742,  ...,  0.6781, -0.4664,  2.2384]],\n",
       "\n",
       "        [[ 0.6565, -0.7114, -1.6097,  ...,  0.6179,  0.9382, -0.0394]],\n",
       "\n",
       "        [[ 0.3210, -0.5420, -2.6550,  ...,  0.5883,  0.2058,  0.2356]]],\n",
       "       device='cuda:0'), tensor([[[-0.1271,  1.2535, -2.3426,  ...,  1.0556, -0.9704, -1.3519]],\n",
       "\n",
       "        [[ 0.9370,  0.8500,  0.5442,  ..., -2.0102,  0.4603,  0.6224]],\n",
       "\n",
       "        [[ 0.4619, -1.3337, -1.5183,  ..., -0.3660, -1.0838, -1.9609]],\n",
       "\n",
       "        ...,\n",
       "\n",
       "        [[-0.4150,  0.5508, -0.4553,  ...,  0.8219, -0.5599,  1.6203]],\n",
       "\n",
       "        [[ 0.4268, -0.2998, -1.0390,  ...,  1.4829,  1.5130, -2.0540]],\n",
       "\n",
       "        [[ 0.5426, -0.3494, -2.5683,  ...,  1.3395,  0.2762,  0.1426]]],\n",
       "       device='cuda:0'), tensor([[[-0.2375,  1.4232, -2.0008,  ...,  1.2607, -1.5650, -0.3633]],\n",
       "\n",
       "        [[ 1.1602,  1.1924,  0.7940,  ..., -1.6825, -0.1034,  1.1056]],\n",
       "\n",
       "        [[ 0.5799, -0.4735, -1.8746,  ..., -0.3918, -1.6471, -1.0451]],\n",
       "\n",
       "        ...,\n",
       "\n",
       "        [[ 0.0184,  0.9900, -1.0678,  ...,  0.2061, -0.0897,  1.6195]],\n",
       "\n",
       "        [[ 1.1420, -0.5421, -1.2376,  ...,  0.8306,  1.1636, -0.5297]],\n",
       "\n",
       "        [[ 1.3923, -0.2962, -2.4993,  ...,  0.0651, -0.2997,  0.4899]]],\n",
       "       device='cuda:0'), tensor([[[-2.2664e-01,  1.3466e+00, -1.3536e+00,  ...,  9.1568e-01,\n",
       "          -1.4887e+00,  3.3537e-04]],\n",
       "\n",
       "        [[ 5.1711e-01,  1.0219e+00,  1.1435e+00,  ..., -1.1884e+00,\n",
       "          -1.0471e-01,  7.7688e-01]],\n",
       "\n",
       "        [[ 6.5958e-01,  5.1337e-03, -1.4194e+00,  ..., -2.5330e-02,\n",
       "          -1.0536e+00, -4.0382e-01]],\n",
       "\n",
       "        ...,\n",
       "\n",
       "        [[-1.2766e-01,  8.4594e-01, -6.9967e-01,  ..., -2.2686e-01,\n",
       "          -6.4911e-01,  1.1907e+00]],\n",
       "\n",
       "        [[ 7.4025e-01,  1.2828e-02, -1.0188e+00,  ...,  1.0096e+00,\n",
       "           3.8835e-01,  1.3142e-01]],\n",
       "\n",
       "        [[ 1.3366e+00, -8.7737e-02, -1.3939e+00,  ...,  5.5987e-02,\n",
       "           1.9987e-01,  4.2631e-01]]], device='cuda:0'), tensor([[[-0.0170,  1.9659, -1.7655,  ...,  1.1917, -1.7962, -0.3107]],\n",
       "\n",
       "        [[ 0.9045,  1.2921,  1.0873,  ..., -1.4265,  0.2347,  1.0640]],\n",
       "\n",
       "        [[ 0.3221,  0.3171, -1.8187,  ..., -0.6505, -1.2125, -0.1431]],\n",
       "\n",
       "        ...,\n",
       "\n",
       "        [[-0.2845,  1.1782, -0.5785,  ..., -0.4301, -0.7796,  1.1321]],\n",
       "\n",
       "        [[ 0.9314,  0.0690, -1.2579,  ...,  1.0471,  0.5136,  0.6774]],\n",
       "\n",
       "        [[ 1.0342,  0.0237, -1.7975,  ...,  0.3129, -0.3026,  1.0256]]],\n",
       "       device='cuda:0'), tensor([[[ 0.2725,  1.6984, -2.0650,  ...,  0.9904, -1.5103, -0.0534]],\n",
       "\n",
       "        [[ 1.1783,  0.2936, -0.2667,  ..., -1.5729,  0.6332,  0.6463]],\n",
       "\n",
       "        [[ 0.3081,  0.2605, -2.6232,  ...,  0.4605, -0.9045, -0.0257]],\n",
       "\n",
       "        ...,\n",
       "\n",
       "        [[ 0.0185,  0.2771, -0.5580,  ..., -0.9536, -0.0591,  0.9601]],\n",
       "\n",
       "        [[ 0.7260, -0.4103, -0.9628,  ...,  0.4452,  0.5988,  0.5157]],\n",
       "\n",
       "        [[ 1.0386, -0.1663, -0.9627,  ...,  0.1927,  0.0590,  0.5757]]],\n",
       "       device='cuda:0'), tensor([[[ 0.2845,  1.4573, -2.4945,  ...,  0.5589, -1.9207, -0.4295]],\n",
       "\n",
       "        [[ 1.0543,  0.1861, -1.0401,  ..., -1.3631,  0.0619,  0.0794]],\n",
       "\n",
       "        [[ 0.0669, -0.1600, -3.0298,  ...,  0.4930, -1.1667,  0.2247]],\n",
       "\n",
       "        ...,\n",
       "\n",
       "        [[ 0.5540,  0.2834, -0.8629,  ..., -1.3426, -0.2101,  0.7999]],\n",
       "\n",
       "        [[ 0.5666, -0.6386, -0.9557,  ..., -0.1316,  0.1468,  0.5687]],\n",
       "\n",
       "        [[ 0.5733, -0.2179, -0.6199,  ...,  0.1118, -0.2473,  0.5382]]],\n",
       "       device='cuda:0'), tensor([[[ 0.3613,  1.3645, -2.2212,  ...,  0.3380, -1.8521, -0.7363]],\n",
       "\n",
       "        [[ 0.7112,  0.2261, -0.7863,  ..., -1.1125,  0.0481, -0.0462]],\n",
       "\n",
       "        [[-0.0552,  0.1386, -2.5356,  ...,  0.6611, -0.2844, -0.0218]],\n",
       "\n",
       "        ...,\n",
       "\n",
       "        [[ 0.4212,  0.2348, -0.5912,  ..., -1.3492, -0.1265,  0.3089]],\n",
       "\n",
       "        [[ 0.4355, -0.5733, -0.8244,  ..., -0.1019,  0.1926,  0.2461]],\n",
       "\n",
       "        [[ 0.1663, -0.0035, -0.1603,  ...,  0.0276, -0.0074,  0.0806]]],\n",
       "       device='cuda:0'), tensor([[[ 0.7244,  1.5786, -2.3036,  ...,  0.4280, -2.0921, -0.9199]],\n",
       "\n",
       "        [[ 1.1579,  0.6927, -0.9369,  ..., -1.7116, -0.3968, -0.1323]],\n",
       "\n",
       "        [[ 0.0603,  0.4950, -2.9692,  ...,  0.6513, -0.6997,  0.2333]],\n",
       "\n",
       "        ...,\n",
       "\n",
       "        [[-0.1605, -0.0712, -1.3831,  ..., -1.2383, -0.2318,  0.7102]],\n",
       "\n",
       "        [[ 0.2014, -0.2891, -0.9989,  ..., -0.0921,  0.0532,  0.4036]],\n",
       "\n",
       "        [[ 0.0514, -0.0393, -0.1089,  ...,  0.0923,  0.0503,  0.0676]]],\n",
       "       device='cuda:0'), tensor([[[ 1.0227,  1.2602, -1.1506,  ...,  0.3810, -1.4613, -0.8979]],\n",
       "\n",
       "        [[ 0.7173,  0.0326,  0.2412,  ..., -1.5086, -0.5789,  0.2838]],\n",
       "\n",
       "        [[ 0.1888, -0.3408, -1.3285,  ...,  0.2585, -0.8020,  0.1903]],\n",
       "\n",
       "        ...,\n",
       "\n",
       "        [[ 0.0865, -0.1324, -0.7656,  ..., -0.4895, -0.3980,  1.0648]],\n",
       "\n",
       "        [[ 0.1408,  0.1340, -0.6963,  ..., -0.1237,  0.0270,  0.4720]],\n",
       "\n",
       "        [[-0.0819, -0.0067, -0.1758,  ..., -0.0185,  0.0495,  0.3685]]],\n",
       "       device='cuda:0')), hidden_states=None, attentions=None)"
      ]
     },
     "execution_count": 53,
     "metadata": {},
     "output_type": "execute_result"
    }
   ],
   "source": [
    "with torch.no_grad():\n",
    "    outputs = model(**inputs)\n",
    "outputs\n"
   ]
  },
  {
   "cell_type": "code",
   "execution_count": 20,
   "metadata": {},
   "outputs": [
    {
     "ename": "AttributeError",
     "evalue": "'XLNetForSequenceClassificationOutput' object has no attribute 'last_hidden_state'",
     "output_type": "error",
     "traceback": [
      "\u001b[1;31m---------------------------------------------------------------------------\u001b[0m",
      "\u001b[1;31mAttributeError\u001b[0m                            Traceback (most recent call last)",
      "Cell \u001b[1;32mIn[20], line 1\u001b[0m\n\u001b[1;32m----> 1\u001b[0m outputs\u001b[39m.\u001b[39;49mlast_hidden_state\u001b[39m.\u001b[39mshape\n",
      "\u001b[1;31mAttributeError\u001b[0m: 'XLNetForSequenceClassificationOutput' object has no attribute 'last_hidden_state'"
     ]
    }
   ],
   "source": [
    "outputs.last_hidden_state.shape\n"
   ]
  },
  {
   "cell_type": "code",
   "execution_count": null,
   "metadata": {},
   "outputs": [],
   "source": [
    "del outputs\n",
    "torch.cuda.empty_cache() "
   ]
  },
  {
   "cell_type": "code",
   "execution_count": null,
   "metadata": {},
   "outputs": [],
   "source": [
    "del model"
   ]
  },
  {
   "cell_type": "code",
   "execution_count": 54,
   "metadata": {},
   "outputs": [],
   "source": [
    "import datasets"
   ]
  },
  {
   "cell_type": "code",
   "execution_count": 55,
   "metadata": {},
   "outputs": [],
   "source": [
    "dataset = datasets.Dataset.from_pandas(df_train)"
   ]
  },
  {
   "cell_type": "code",
   "execution_count": 56,
   "metadata": {},
   "outputs": [
    {
     "data": {
      "text/plain": [
       "Dataset({\n",
       "    features: ['review', 'positive', 'id'],\n",
       "    num_rows: 25000\n",
       "})"
      ]
     },
     "execution_count": 56,
     "metadata": {},
     "output_type": "execute_result"
    }
   ],
   "source": [
    "dataset"
   ]
  },
  {
   "cell_type": "code",
   "execution_count": 57,
   "metadata": {},
   "outputs": [
    {
     "ename": "KeyError",
     "evalue": "\"Column train not in the dataset. Current columns in the dataset: ['review', 'positive', 'id']\"",
     "output_type": "error",
     "traceback": [
      "\u001b[1;31m---------------------------------------------------------------------------\u001b[0m",
      "\u001b[1;31mKeyError\u001b[0m                                  Traceback (most recent call last)",
      "Cell \u001b[1;32mIn[57], line 1\u001b[0m\n\u001b[1;32m----> 1\u001b[0m small_train_dataset \u001b[39m=\u001b[39m dataset[\u001b[39m\"\u001b[39;49m\u001b[39mtrain\u001b[39;49m\u001b[39m\"\u001b[39;49m]\u001b[39m.\u001b[39mshuffle(seed\u001b[39m=\u001b[39m\u001b[39m42\u001b[39m)\u001b[39m.\u001b[39mselect(\u001b[39mrange\u001b[39m(\u001b[39m1000\u001b[39m))\n\u001b[0;32m      2\u001b[0m small_eval_dataset \u001b[39m=\u001b[39m dataset[\u001b[39m\"\u001b[39m\u001b[39mtest\u001b[39m\u001b[39m\"\u001b[39m]\u001b[39m.\u001b[39mshuffle(seed\u001b[39m=\u001b[39m\u001b[39m42\u001b[39m)\u001b[39m.\u001b[39mselect(\u001b[39mrange\u001b[39m(\u001b[39m1000\u001b[39m))\n",
      "File \u001b[1;32mc:\\Users\\Abstract\\mambaforge\\envs\\sentenv\\lib\\site-packages\\datasets\\arrow_dataset.py:2792\u001b[0m, in \u001b[0;36mDataset.__getitem__\u001b[1;34m(self, key)\u001b[0m\n\u001b[0;32m   2790\u001b[0m \u001b[39mdef\u001b[39;00m \u001b[39m__getitem__\u001b[39m(\u001b[39mself\u001b[39m, key):  \u001b[39m# noqa: F811\u001b[39;00m\n\u001b[0;32m   2791\u001b[0m \u001b[39m    \u001b[39m\u001b[39m\"\"\"Can be used to index columns (by string names) or rows (by integer index or iterable of indices or bools).\"\"\"\u001b[39;00m\n\u001b[1;32m-> 2792\u001b[0m     \u001b[39mreturn\u001b[39;00m \u001b[39mself\u001b[39;49m\u001b[39m.\u001b[39;49m_getitem(key)\n",
      "File \u001b[1;32mc:\\Users\\Abstract\\mambaforge\\envs\\sentenv\\lib\\site-packages\\datasets\\arrow_dataset.py:2776\u001b[0m, in \u001b[0;36mDataset._getitem\u001b[1;34m(self, key, **kwargs)\u001b[0m\n\u001b[0;32m   2774\u001b[0m format_kwargs \u001b[39m=\u001b[39m format_kwargs \u001b[39mif\u001b[39;00m format_kwargs \u001b[39mis\u001b[39;00m \u001b[39mnot\u001b[39;00m \u001b[39mNone\u001b[39;00m \u001b[39melse\u001b[39;00m {}\n\u001b[0;32m   2775\u001b[0m formatter \u001b[39m=\u001b[39m get_formatter(format_type, features\u001b[39m=\u001b[39m\u001b[39mself\u001b[39m\u001b[39m.\u001b[39m_info\u001b[39m.\u001b[39mfeatures, \u001b[39m*\u001b[39m\u001b[39m*\u001b[39mformat_kwargs)\n\u001b[1;32m-> 2776\u001b[0m pa_subtable \u001b[39m=\u001b[39m query_table(\u001b[39mself\u001b[39;49m\u001b[39m.\u001b[39;49m_data, key, indices\u001b[39m=\u001b[39;49m\u001b[39mself\u001b[39;49m\u001b[39m.\u001b[39;49m_indices \u001b[39mif\u001b[39;49;00m \u001b[39mself\u001b[39;49m\u001b[39m.\u001b[39;49m_indices \u001b[39mis\u001b[39;49;00m \u001b[39mnot\u001b[39;49;00m \u001b[39mNone\u001b[39;49;00m \u001b[39melse\u001b[39;49;00m \u001b[39mNone\u001b[39;49;00m)\n\u001b[0;32m   2777\u001b[0m formatted_output \u001b[39m=\u001b[39m format_table(\n\u001b[0;32m   2778\u001b[0m     pa_subtable, key, formatter\u001b[39m=\u001b[39mformatter, format_columns\u001b[39m=\u001b[39mformat_columns, output_all_columns\u001b[39m=\u001b[39moutput_all_columns\n\u001b[0;32m   2779\u001b[0m )\n\u001b[0;32m   2780\u001b[0m \u001b[39mreturn\u001b[39;00m formatted_output\n",
      "File \u001b[1;32mc:\\Users\\Abstract\\mambaforge\\envs\\sentenv\\lib\\site-packages\\datasets\\formatting\\formatting.py:580\u001b[0m, in \u001b[0;36mquery_table\u001b[1;34m(table, key, indices)\u001b[0m\n\u001b[0;32m    578\u001b[0m     _raise_bad_key_type(key)\n\u001b[0;32m    579\u001b[0m \u001b[39mif\u001b[39;00m \u001b[39misinstance\u001b[39m(key, \u001b[39mstr\u001b[39m):\n\u001b[1;32m--> 580\u001b[0m     _check_valid_column_key(key, table\u001b[39m.\u001b[39;49mcolumn_names)\n\u001b[0;32m    581\u001b[0m \u001b[39melse\u001b[39;00m:\n\u001b[0;32m    582\u001b[0m     size \u001b[39m=\u001b[39m indices\u001b[39m.\u001b[39mnum_rows \u001b[39mif\u001b[39;00m indices \u001b[39mis\u001b[39;00m \u001b[39mnot\u001b[39;00m \u001b[39mNone\u001b[39;00m \u001b[39melse\u001b[39;00m table\u001b[39m.\u001b[39mnum_rows\n",
      "File \u001b[1;32mc:\\Users\\Abstract\\mambaforge\\envs\\sentenv\\lib\\site-packages\\datasets\\formatting\\formatting.py:520\u001b[0m, in \u001b[0;36m_check_valid_column_key\u001b[1;34m(key, columns)\u001b[0m\n\u001b[0;32m    518\u001b[0m \u001b[39mdef\u001b[39;00m \u001b[39m_check_valid_column_key\u001b[39m(key: \u001b[39mstr\u001b[39m, columns: List[\u001b[39mstr\u001b[39m]) \u001b[39m-\u001b[39m\u001b[39m>\u001b[39m \u001b[39mNone\u001b[39;00m:\n\u001b[0;32m    519\u001b[0m     \u001b[39mif\u001b[39;00m key \u001b[39mnot\u001b[39;00m \u001b[39min\u001b[39;00m columns:\n\u001b[1;32m--> 520\u001b[0m         \u001b[39mraise\u001b[39;00m \u001b[39mKeyError\u001b[39;00m(\u001b[39mf\u001b[39m\u001b[39m\"\u001b[39m\u001b[39mColumn \u001b[39m\u001b[39m{\u001b[39;00mkey\u001b[39m}\u001b[39;00m\u001b[39m not in the dataset. Current columns in the dataset: \u001b[39m\u001b[39m{\u001b[39;00mcolumns\u001b[39m}\u001b[39;00m\u001b[39m\"\u001b[39m)\n",
      "\u001b[1;31mKeyError\u001b[0m: \"Column train not in the dataset. Current columns in the dataset: ['review', 'positive', 'id']\""
     ]
    }
   ],
   "source": [
    "small_train_dataset = dataset[\"train\"].shuffle(seed=42).select(range(1000))\n",
    "small_eval_dataset = dataset[\"test\"].shuffle(seed=42).select(range(1000))"
   ]
  }
 ],
 "metadata": {
  "kernelspec": {
   "display_name": "sentenv",
   "language": "python",
   "name": "python3"
  },
  "language_info": {
   "codemirror_mode": {
    "name": "ipython",
    "version": 3
   },
   "file_extension": ".py",
   "mimetype": "text/x-python",
   "name": "python",
   "nbconvert_exporter": "python",
   "pygments_lexer": "ipython3",
   "version": "3.10.12"
  },
  "orig_nbformat": 4
 },
 "nbformat": 4,
 "nbformat_minor": 2
}
